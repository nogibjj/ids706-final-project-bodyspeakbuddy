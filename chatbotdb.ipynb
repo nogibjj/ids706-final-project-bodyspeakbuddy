{
 "cells": [
  {
   "cell_type": "code",
   "execution_count": 1,
   "metadata": {},
   "outputs": [],
   "source": [
    "import sqlite3\n",
    "import pandas as pd"
   ]
  },
  {
   "cell_type": "code",
   "execution_count": 2,
   "metadata": {},
   "outputs": [],
   "source": [
    "connection = sqlite3.connect('chatbot.db')\n",
    "cursor = connection.cursor()"
   ]
  },
  {
   "cell_type": "code",
   "execution_count": 3,
   "metadata": {},
   "outputs": [
    {
     "data": {
      "text/plain": [
       "<sqlite3.Cursor at 0x1429852c0>"
      ]
     },
     "execution_count": 3,
     "metadata": {},
     "output_type": "execute_result"
    }
   ],
   "source": [
    "cursor.execute(\"SELECT * FROM chat_history\")"
   ]
  },
  {
   "cell_type": "code",
   "execution_count": 4,
   "metadata": {},
   "outputs": [
    {
     "name": "stdout",
     "output_type": "stream",
     "text": [
      "(1, \"How does crossing one's arms typically affect the perception of their attitude in a conversation?\", '[HumanMessage(content=\"How does crossing one\\'s arms typically affect the perception of their attitude in a conversation?\"), AIMessage(content=\"Crossing one\\'s arms in a conversation can often be perceived as a sign of defensiveness, resistance, or discomfort. It may give the impression that the person is closed off or not receptive to what is being said. However, it is important to consider other factors and cues in the conversation to accurately interpret someone\\'s attitude, as crossing arms alone does not always indicate a negative attitude.\")]')\n",
      "(2, 'What are common facial expressions that indicate someone is feeling confident, and how can they be distinguished from expressions of arrogance?', '[HumanMessage(content=\"How does crossing one\\'s arms typically affect the perception of their attitude in a conversation?\"), AIMessage(content=\"Crossing one\\'s arms in a conversation can often be perceived as a sign of defensiveness, resistance, or discomfort. It may give the impression that the person is closed off or not receptive to what is being said. However, it is important to consider other factors and cues in the conversation to accurately interpret someone\\'s attitude, as crossing arms alone does not always indicate a negative attitude.\"), HumanMessage(content=\\'What are common facial expressions that indicate someone is feeling confident, and how can they be distinguished from expressions of arrogance?\\'), AIMessage(content=\\'Common facial expressions that indicate someone is feeling confident include relaxed muscles around the mouth, a slight smile, and a lifted chin. The eyes may appear bright and focused, and the forehead may be smooth without furrowed lines. These expressions convey a sense of self-assurance and positivity.\\\\n\\\\nDistinguishing expressions of confidence from expressions of arrogance can be challenging, as they may share some similarities. However, arrogance is often characterized by additional cues such as raised eyebrows, a tilted head, and a more intense or smug smile. Arrogance may also include a dismissive or condescending tone in speech and a lack of genuine warmth or empathy in interactions. It is important to consider the overall behavior and context to accurately differentiate between confidence and arrogance.\\')]')\n",
      "(3, 'In a group setting, how can body language be used to identify the leader or the most influential person in the group?', '[HumanMessage(content=\"How does crossing one\\'s arms typically affect the perception of their attitude in a conversation?\"), AIMessage(content=\"Crossing one\\'s arms in a conversation can often be perceived as a sign of defensiveness, resistance, or discomfort. It may give the impression that the person is closed off or not receptive to what is being said. However, it is important to consider other factors and cues in the conversation to accurately interpret someone\\'s attitude, as crossing arms alone does not always indicate a negative attitude.\"), HumanMessage(content=\\'What are common facial expressions that indicate someone is feeling confident, and how can they be distinguished from expressions of arrogance?\\'), AIMessage(content=\\'Common facial expressions that indicate someone is feeling confident include relaxed muscles around the mouth, a slight smile, and a lifted chin. The eyes may appear bright and focused, and the forehead may be smooth without furrowed lines. These expressions convey a sense of self-assurance and positivity.\\\\n\\\\nDistinguishing expressions of confidence from expressions of arrogance can be challenging, as they may share some similarities. However, arrogance is often characterized by additional cues such as raised eyebrows, a tilted head, and a more intense or smug smile. Arrogance may also include a dismissive or condescending tone in speech and a lack of genuine warmth or empathy in interactions. It is important to consider the overall behavior and context to accurately differentiate between confidence and arrogance.\\'), HumanMessage(content=\\'In a group setting, how can body language be used to identify the leader or the most influential person in the group?\\'), AIMessage(content=\\'The provided context does not directly address how body language can be used to identify the leader or the most influential person in a group setting.\\')]')\n",
      "(4, 'Can body language cues differ significantly across cultures, and if so, can you provide an example of a gesture that has different meanings in different cultures?', '[HumanMessage(content=\"How does crossing one\\'s arms typically affect the perception of their attitude in a conversation?\"), AIMessage(content=\"Crossing one\\'s arms in a conversation can often be perceived as a sign of defensiveness, resistance, or discomfort. It may give the impression that the person is closed off or not receptive to what is being said. However, it is important to consider other factors and cues in the conversation to accurately interpret someone\\'s attitude, as crossing arms alone does not always indicate a negative attitude.\"), HumanMessage(content=\\'What are common facial expressions that indicate someone is feeling confident, and how can they be distinguished from expressions of arrogance?\\'), AIMessage(content=\\'Common facial expressions that indicate someone is feeling confident include relaxed muscles around the mouth, a slight smile, and a lifted chin. The eyes may appear bright and focused, and the forehead may be smooth without furrowed lines. These expressions convey a sense of self-assurance and positivity.\\\\n\\\\nDistinguishing expressions of confidence from expressions of arrogance can be challenging, as they may share some similarities. However, arrogance is often characterized by additional cues such as raised eyebrows, a tilted head, and a more intense or smug smile. Arrogance may also include a dismissive or condescending tone in speech and a lack of genuine warmth or empathy in interactions. It is important to consider the overall behavior and context to accurately differentiate between confidence and arrogance.\\'), HumanMessage(content=\\'In a group setting, how can body language be used to identify the leader or the most influential person in the group?\\'), AIMessage(content=\\'The provided context does not directly address how body language can be used to identify the leader or the most influential person in a group setting.\\'), HumanMessage(content=\\'Can body language cues differ significantly across cultures, and if so, can you provide an example of a gesture that has different meanings in different cultures?\\'), AIMessage(content=\"Yes, body language cues can differ significantly across cultures. One example of a gesture that has different meanings in different cultures is finger pointing. In many countries throughout the world, finger pointing is viewed as one of the most offensive gestures a person can display. People don\\'t like it when someone points a finger at them. However, in some cultures, like in Western cultures, finger pointing is commonly used to indicate directions or emphasize a point in a conversation. It is important to be aware of these cultural differences in order to avoid unintentionally offending others.\")]')\n",
      "(5, \"How does mirroring another person's body language subtly influence the dynamics of a conversation or negotiation?\", '[HumanMessage(content=\"How does crossing one\\'s arms typically affect the perception of their attitude in a conversation?\"), AIMessage(content=\"Crossing one\\'s arms in a conversation can often be perceived as a sign of defensiveness, resistance, or discomfort. It may give the impression that the person is closed off or not receptive to what is being said. However, it is important to consider other factors and cues in the conversation to accurately interpret someone\\'s attitude, as crossing arms alone does not always indicate a negative attitude.\"), HumanMessage(content=\\'What are common facial expressions that indicate someone is feeling confident, and how can they be distinguished from expressions of arrogance?\\'), AIMessage(content=\\'Common facial expressions that indicate someone is feeling confident include relaxed muscles around the mouth, a slight smile, and a lifted chin. The eyes may appear bright and focused, and the forehead may be smooth without furrowed lines. These expressions convey a sense of self-assurance and positivity.\\\\n\\\\nDistinguishing expressions of confidence from expressions of arrogance can be challenging, as they may share some similarities. However, arrogance is often characterized by additional cues such as raised eyebrows, a tilted head, and a more intense or smug smile. Arrogance may also include a dismissive or condescending tone in speech and a lack of genuine warmth or empathy in interactions. It is important to consider the overall behavior and context to accurately differentiate between confidence and arrogance.\\'), HumanMessage(content=\\'In a group setting, how can body language be used to identify the leader or the most influential person in the group?\\'), AIMessage(content=\\'The provided context does not directly address how body language can be used to identify the leader or the most influential person in a group setting.\\'), HumanMessage(content=\\'Can body language cues differ significantly across cultures, and if so, can you provide an example of a gesture that has different meanings in different cultures?\\'), AIMessage(content=\"Yes, body language cues can differ significantly across cultures. One example of a gesture that has different meanings in different cultures is finger pointing. In many countries throughout the world, finger pointing is viewed as one of the most offensive gestures a person can display. People don\\'t like it when someone points a finger at them. However, in some cultures, like in Western cultures, finger pointing is commonly used to indicate directions or emphasize a point in a conversation. It is important to be aware of these cultural differences in order to avoid unintentionally offending others.\"), HumanMessage(content=\"How does mirroring another person\\'s body language subtly influence the dynamics of a conversation or negotiation?\"), AIMessage(content=\"The subtle influence of mirroring another person\\'s body language in a conversation or negotiation is that it creates a sense of comfort and harmony between the individuals involved. When one person mirrors the body language of the other, it subconsciously signals that they are in agreement and comfortable with each other. This can help build rapport and trust, leading to better communication and a more positive atmosphere for the conversation or negotiation. On the other hand, if there is a lack of mirroring or synchronization in body language, it can indicate a lack of harmony and may hinder effective communication and successful outcomes.\")]')\n"
     ]
    }
   ],
   "source": [
    "rows = cursor.fetchall()\n",
    "for row in rows:\n",
    "    print(row)"
   ]
  },
  {
   "cell_type": "code",
   "execution_count": 5,
   "metadata": {},
   "outputs": [
    {
     "data": {
      "text/html": [
       "<div>\n",
       "<style scoped>\n",
       "    .dataframe tbody tr th:only-of-type {\n",
       "        vertical-align: middle;\n",
       "    }\n",
       "\n",
       "    .dataframe tbody tr th {\n",
       "        vertical-align: top;\n",
       "    }\n",
       "\n",
       "    .dataframe thead th {\n",
       "        text-align: right;\n",
       "    }\n",
       "</style>\n",
       "<table border=\"1\" class=\"dataframe\">\n",
       "  <thead>\n",
       "    <tr style=\"text-align: right;\">\n",
       "      <th></th>\n",
       "      <th>id</th>\n",
       "      <th>question</th>\n",
       "      <th>response</th>\n",
       "    </tr>\n",
       "  </thead>\n",
       "  <tbody>\n",
       "    <tr>\n",
       "      <th>0</th>\n",
       "      <td>1</td>\n",
       "      <td>How does crossing one's arms typically affect ...</td>\n",
       "      <td>[HumanMessage(content=\"How does crossing one's...</td>\n",
       "    </tr>\n",
       "    <tr>\n",
       "      <th>1</th>\n",
       "      <td>2</td>\n",
       "      <td>What are common facial expressions that indica...</td>\n",
       "      <td>[HumanMessage(content=\"How does crossing one's...</td>\n",
       "    </tr>\n",
       "    <tr>\n",
       "      <th>2</th>\n",
       "      <td>3</td>\n",
       "      <td>In a group setting, how can body language be u...</td>\n",
       "      <td>[HumanMessage(content=\"How does crossing one's...</td>\n",
       "    </tr>\n",
       "    <tr>\n",
       "      <th>3</th>\n",
       "      <td>4</td>\n",
       "      <td>Can body language cues differ significantly ac...</td>\n",
       "      <td>[HumanMessage(content=\"How does crossing one's...</td>\n",
       "    </tr>\n",
       "    <tr>\n",
       "      <th>4</th>\n",
       "      <td>5</td>\n",
       "      <td>How does mirroring another person's body langu...</td>\n",
       "      <td>[HumanMessage(content=\"How does crossing one's...</td>\n",
       "    </tr>\n",
       "  </tbody>\n",
       "</table>\n",
       "</div>"
      ],
      "text/plain": [
       "   id                                           question  \\\n",
       "0   1  How does crossing one's arms typically affect ...   \n",
       "1   2  What are common facial expressions that indica...   \n",
       "2   3  In a group setting, how can body language be u...   \n",
       "3   4  Can body language cues differ significantly ac...   \n",
       "4   5  How does mirroring another person's body langu...   \n",
       "\n",
       "                                            response  \n",
       "0  [HumanMessage(content=\"How does crossing one's...  \n",
       "1  [HumanMessage(content=\"How does crossing one's...  \n",
       "2  [HumanMessage(content=\"How does crossing one's...  \n",
       "3  [HumanMessage(content=\"How does crossing one's...  \n",
       "4  [HumanMessage(content=\"How does crossing one's...  "
      ]
     },
     "execution_count": 5,
     "metadata": {},
     "output_type": "execute_result"
    }
   ],
   "source": [
    "df = pd.read_sql_query(\"SELECT * FROM chat_history\", connection)\n",
    "df"
   ]
  },
  {
   "cell_type": "code",
   "execution_count": 39,
   "metadata": {},
   "outputs": [],
   "source": [
    "pd.set_option('display.max_colwidth', None) "
   ]
  },
  {
   "cell_type": "code",
   "execution_count": 40,
   "metadata": {},
   "outputs": [
    {
     "data": {
      "text/html": [
       "<div>\n",
       "<style scoped>\n",
       "    .dataframe tbody tr th:only-of-type {\n",
       "        vertical-align: middle;\n",
       "    }\n",
       "\n",
       "    .dataframe tbody tr th {\n",
       "        vertical-align: top;\n",
       "    }\n",
       "\n",
       "    .dataframe thead th {\n",
       "        text-align: right;\n",
       "    }\n",
       "</style>\n",
       "<table border=\"1\" class=\"dataframe\">\n",
       "  <thead>\n",
       "    <tr style=\"text-align: right;\">\n",
       "      <th></th>\n",
       "      <th>id</th>\n",
       "      <th>question</th>\n",
       "      <th>response</th>\n",
       "    </tr>\n",
       "  </thead>\n",
       "  <tbody>\n",
       "    <tr>\n",
       "      <th>0</th>\n",
       "      <td>1</td>\n",
       "      <td>How does crossing one's arms typically affect the perception of their attitude in a conversation?</td>\n",
       "      <td>[HumanMessage(content=\"How does crossing one's arms typically affect the perception of their attitude in a conversation?\"), AIMessage(content=\"Crossing one's arms in a conversation can often be perceived as a sign of defensiveness, resistance, or discomfort. It may give the impression that the person is closed off or not receptive to what is being said. However, it is important to consider other factors and cues in the conversation to accurately interpret someone's attitude, as crossing arms alone does not always indicate a negative attitude.\")]</td>\n",
       "    </tr>\n",
       "    <tr>\n",
       "      <th>1</th>\n",
       "      <td>2</td>\n",
       "      <td>What are common facial expressions that indicate someone is feeling confident, and how can they be distinguished from expressions of arrogance?</td>\n",
       "      <td>[HumanMessage(content=\"How does crossing one's arms typically affect the perception of their attitude in a conversation?\"), AIMessage(content=\"Crossing one's arms in a conversation can often be perceived as a sign of defensiveness, resistance, or discomfort. It may give the impression that the person is closed off or not receptive to what is being said. However, it is important to consider other factors and cues in the conversation to accurately interpret someone's attitude, as crossing arms alone does not always indicate a negative attitude.\"), HumanMessage(content='What are common facial expressions that indicate someone is feeling confident, and how can they be distinguished from expressions of arrogance?'), AIMessage(content='Common facial expressions that indicate someone is feeling confident include relaxed muscles around the mouth, a slight smile, and a lifted chin. The eyes may appear bright and focused, and the forehead may be smooth without furrowed lines. These expressions convey a sense of self-assurance and positivity.\\n\\nDistinguishing expressions of confidence from expressions of arrogance can be challenging, as they may share some similarities. However, arrogance is often characterized by additional cues such as raised eyebrows, a tilted head, and a more intense or smug smile. Arrogance may also include a dismissive or condescending tone in speech and a lack of genuine warmth or empathy in interactions. It is important to consider the overall behavior and context to accurately differentiate between confidence and arrogance.')]</td>\n",
       "    </tr>\n",
       "    <tr>\n",
       "      <th>2</th>\n",
       "      <td>3</td>\n",
       "      <td>In a group setting, how can body language be used to identify the leader or the most influential person in the group?</td>\n",
       "      <td>[HumanMessage(content=\"How does crossing one's arms typically affect the perception of their attitude in a conversation?\"), AIMessage(content=\"Crossing one's arms in a conversation can often be perceived as a sign of defensiveness, resistance, or discomfort. It may give the impression that the person is closed off or not receptive to what is being said. However, it is important to consider other factors and cues in the conversation to accurately interpret someone's attitude, as crossing arms alone does not always indicate a negative attitude.\"), HumanMessage(content='What are common facial expressions that indicate someone is feeling confident, and how can they be distinguished from expressions of arrogance?'), AIMessage(content='Common facial expressions that indicate someone is feeling confident include relaxed muscles around the mouth, a slight smile, and a lifted chin. The eyes may appear bright and focused, and the forehead may be smooth without furrowed lines. These expressions convey a sense of self-assurance and positivity.\\n\\nDistinguishing expressions of confidence from expressions of arrogance can be challenging, as they may share some similarities. However, arrogance is often characterized by additional cues such as raised eyebrows, a tilted head, and a more intense or smug smile. Arrogance may also include a dismissive or condescending tone in speech and a lack of genuine warmth or empathy in interactions. It is important to consider the overall behavior and context to accurately differentiate between confidence and arrogance.'), HumanMessage(content='In a group setting, how can body language be used to identify the leader or the most influential person in the group?'), AIMessage(content='The provided context does not directly address how body language can be used to identify the leader or the most influential person in a group setting.')]</td>\n",
       "    </tr>\n",
       "    <tr>\n",
       "      <th>3</th>\n",
       "      <td>4</td>\n",
       "      <td>Can body language cues differ significantly across cultures, and if so, can you provide an example of a gesture that has different meanings in different cultures?</td>\n",
       "      <td>[HumanMessage(content=\"How does crossing one's arms typically affect the perception of their attitude in a conversation?\"), AIMessage(content=\"Crossing one's arms in a conversation can often be perceived as a sign of defensiveness, resistance, or discomfort. It may give the impression that the person is closed off or not receptive to what is being said. However, it is important to consider other factors and cues in the conversation to accurately interpret someone's attitude, as crossing arms alone does not always indicate a negative attitude.\"), HumanMessage(content='What are common facial expressions that indicate someone is feeling confident, and how can they be distinguished from expressions of arrogance?'), AIMessage(content='Common facial expressions that indicate someone is feeling confident include relaxed muscles around the mouth, a slight smile, and a lifted chin. The eyes may appear bright and focused, and the forehead may be smooth without furrowed lines. These expressions convey a sense of self-assurance and positivity.\\n\\nDistinguishing expressions of confidence from expressions of arrogance can be challenging, as they may share some similarities. However, arrogance is often characterized by additional cues such as raised eyebrows, a tilted head, and a more intense or smug smile. Arrogance may also include a dismissive or condescending tone in speech and a lack of genuine warmth or empathy in interactions. It is important to consider the overall behavior and context to accurately differentiate between confidence and arrogance.'), HumanMessage(content='In a group setting, how can body language be used to identify the leader or the most influential person in the group?'), AIMessage(content='The provided context does not directly address how body language can be used to identify the leader or the most influential person in a group setting.'), HumanMessage(content='Can body language cues differ significantly across cultures, and if so, can you provide an example of a gesture that has different meanings in different cultures?'), AIMessage(content=\"Yes, body language cues can differ significantly across cultures. One example of a gesture that has different meanings in different cultures is finger pointing. In many countries throughout the world, finger pointing is viewed as one of the most offensive gestures a person can display. People don't like it when someone points a finger at them. However, in some cultures, like in Western cultures, finger pointing is commonly used to indicate directions or emphasize a point in a conversation. It is important to be aware of these cultural differences in order to avoid unintentionally offending others.\")]</td>\n",
       "    </tr>\n",
       "    <tr>\n",
       "      <th>4</th>\n",
       "      <td>5</td>\n",
       "      <td>How does mirroring another person's body language subtly influence the dynamics of a conversation or negotiation?</td>\n",
       "      <td>[HumanMessage(content=\"How does crossing one's arms typically affect the perception of their attitude in a conversation?\"), AIMessage(content=\"Crossing one's arms in a conversation can often be perceived as a sign of defensiveness, resistance, or discomfort. It may give the impression that the person is closed off or not receptive to what is being said. However, it is important to consider other factors and cues in the conversation to accurately interpret someone's attitude, as crossing arms alone does not always indicate a negative attitude.\"), HumanMessage(content='What are common facial expressions that indicate someone is feeling confident, and how can they be distinguished from expressions of arrogance?'), AIMessage(content='Common facial expressions that indicate someone is feeling confident include relaxed muscles around the mouth, a slight smile, and a lifted chin. The eyes may appear bright and focused, and the forehead may be smooth without furrowed lines. These expressions convey a sense of self-assurance and positivity.\\n\\nDistinguishing expressions of confidence from expressions of arrogance can be challenging, as they may share some similarities. However, arrogance is often characterized by additional cues such as raised eyebrows, a tilted head, and a more intense or smug smile. Arrogance may also include a dismissive or condescending tone in speech and a lack of genuine warmth or empathy in interactions. It is important to consider the overall behavior and context to accurately differentiate between confidence and arrogance.'), HumanMessage(content='In a group setting, how can body language be used to identify the leader or the most influential person in the group?'), AIMessage(content='The provided context does not directly address how body language can be used to identify the leader or the most influential person in a group setting.'), HumanMessage(content='Can body language cues differ significantly across cultures, and if so, can you provide an example of a gesture that has different meanings in different cultures?'), AIMessage(content=\"Yes, body language cues can differ significantly across cultures. One example of a gesture that has different meanings in different cultures is finger pointing. In many countries throughout the world, finger pointing is viewed as one of the most offensive gestures a person can display. People don't like it when someone points a finger at them. However, in some cultures, like in Western cultures, finger pointing is commonly used to indicate directions or emphasize a point in a conversation. It is important to be aware of these cultural differences in order to avoid unintentionally offending others.\"), HumanMessage(content=\"How does mirroring another person's body language subtly influence the dynamics of a conversation or negotiation?\"), AIMessage(content=\"The subtle influence of mirroring another person's body language in a conversation or negotiation is that it creates a sense of comfort and harmony between the individuals involved. When one person mirrors the body language of the other, it subconsciously signals that they are in agreement and comfortable with each other. This can help build rapport and trust, leading to better communication and a more positive atmosphere for the conversation or negotiation. On the other hand, if there is a lack of mirroring or synchronization in body language, it can indicate a lack of harmony and may hinder effective communication and successful outcomes.\")]</td>\n",
       "    </tr>\n",
       "  </tbody>\n",
       "</table>\n",
       "</div>"
      ],
      "text/plain": [
       "   id  \\\n",
       "0   1   \n",
       "1   2   \n",
       "2   3   \n",
       "3   4   \n",
       "4   5   \n",
       "\n",
       "                                                                                                                                                             question  \\\n",
       "0                                                                   How does crossing one's arms typically affect the perception of their attitude in a conversation?   \n",
       "1                     What are common facial expressions that indicate someone is feeling confident, and how can they be distinguished from expressions of arrogance?   \n",
       "2                                               In a group setting, how can body language be used to identify the leader or the most influential person in the group?   \n",
       "3  Can body language cues differ significantly across cultures, and if so, can you provide an example of a gesture that has different meanings in different cultures?   \n",
       "4                                                   How does mirroring another person's body language subtly influence the dynamics of a conversation or negotiation?   \n",
       "\n",
       "                                                                                                                                                                                                                                                                                                                                                                                                                                                                                                                                                                                                                                                                                                                                                                                                                                                                                                                                                                                                                                                                                                                                                                                                                                                                                                                                                                                                                                                                                                                                                                                                                                                                                                                                                                                                                                                                                                                                                                                                                                                                                                                                                                                                                                                                                                                                                                                                                                                                                                                                                                                                                                                                                                                                                                                                                                                                                                                                                                                                                                                                                                                                                                                                                                                                                                                                                                                                                                                                                                                                                                                                                                                response  \n",
       "0                                                                                                                                                                                                                                                                                                                                                                                                                                                                                                                                                                                                                                                                                                                                                                                                                                                                                                                                                                                                                                                                                                                                                                                                                                                                                                                                                                                                                                                                                                                                                                                                                                                                                                                                                                                                                                                                                                                                                                                                                                                                                                                                                                                                                                                                                                                                                                                                                                                                                                                                                                                                                                                                                                                                                                                                                                                                                                                                                                                                                                                                                [HumanMessage(content=\"How does crossing one's arms typically affect the perception of their attitude in a conversation?\"), AIMessage(content=\"Crossing one's arms in a conversation can often be perceived as a sign of defensiveness, resistance, or discomfort. It may give the impression that the person is closed off or not receptive to what is being said. However, it is important to consider other factors and cues in the conversation to accurately interpret someone's attitude, as crossing arms alone does not always indicate a negative attitude.\")]  \n",
       "1                                                                                                                                                                                                                                                                                                                                                                                                                                                                                                                                                                                                                                                                                                                                                                                                                                                                                                                                                                                                                                                                                                                                                                                                                                                                                                                                                                                                                                                                                                                                                                                                                                                                                                                                                                                                                                                                                                                                                                                                                       [HumanMessage(content=\"How does crossing one's arms typically affect the perception of their attitude in a conversation?\"), AIMessage(content=\"Crossing one's arms in a conversation can often be perceived as a sign of defensiveness, resistance, or discomfort. It may give the impression that the person is closed off or not receptive to what is being said. However, it is important to consider other factors and cues in the conversation to accurately interpret someone's attitude, as crossing arms alone does not always indicate a negative attitude.\"), HumanMessage(content='What are common facial expressions that indicate someone is feeling confident, and how can they be distinguished from expressions of arrogance?'), AIMessage(content='Common facial expressions that indicate someone is feeling confident include relaxed muscles around the mouth, a slight smile, and a lifted chin. The eyes may appear bright and focused, and the forehead may be smooth without furrowed lines. These expressions convey a sense of self-assurance and positivity.\\n\\nDistinguishing expressions of confidence from expressions of arrogance can be challenging, as they may share some similarities. However, arrogance is often characterized by additional cues such as raised eyebrows, a tilted head, and a more intense or smug smile. Arrogance may also include a dismissive or condescending tone in speech and a lack of genuine warmth or empathy in interactions. It is important to consider the overall behavior and context to accurately differentiate between confidence and arrogance.')]  \n",
       "2                                                                                                                                                                                                                                                                                                                                                                                                                                                                                                                                                                                                                                                                                                                                                                                                                                                                                                                                                                                                                                                                                                                                                                                                                                                                                                                                                                                                                                                                                                                                                                                                                                                                                           [HumanMessage(content=\"How does crossing one's arms typically affect the perception of their attitude in a conversation?\"), AIMessage(content=\"Crossing one's arms in a conversation can often be perceived as a sign of defensiveness, resistance, or discomfort. It may give the impression that the person is closed off or not receptive to what is being said. However, it is important to consider other factors and cues in the conversation to accurately interpret someone's attitude, as crossing arms alone does not always indicate a negative attitude.\"), HumanMessage(content='What are common facial expressions that indicate someone is feeling confident, and how can they be distinguished from expressions of arrogance?'), AIMessage(content='Common facial expressions that indicate someone is feeling confident include relaxed muscles around the mouth, a slight smile, and a lifted chin. The eyes may appear bright and focused, and the forehead may be smooth without furrowed lines. These expressions convey a sense of self-assurance and positivity.\\n\\nDistinguishing expressions of confidence from expressions of arrogance can be challenging, as they may share some similarities. However, arrogance is often characterized by additional cues such as raised eyebrows, a tilted head, and a more intense or smug smile. Arrogance may also include a dismissive or condescending tone in speech and a lack of genuine warmth or empathy in interactions. It is important to consider the overall behavior and context to accurately differentiate between confidence and arrogance.'), HumanMessage(content='In a group setting, how can body language be used to identify the leader or the most influential person in the group?'), AIMessage(content='The provided context does not directly address how body language can be used to identify the leader or the most influential person in a group setting.')]  \n",
       "3                                                                                                                                                                                                                                                                                                                                                                                                                                                                                                                                                                                                                                                                                                                                                                                                                                            [HumanMessage(content=\"How does crossing one's arms typically affect the perception of their attitude in a conversation?\"), AIMessage(content=\"Crossing one's arms in a conversation can often be perceived as a sign of defensiveness, resistance, or discomfort. It may give the impression that the person is closed off or not receptive to what is being said. However, it is important to consider other factors and cues in the conversation to accurately interpret someone's attitude, as crossing arms alone does not always indicate a negative attitude.\"), HumanMessage(content='What are common facial expressions that indicate someone is feeling confident, and how can they be distinguished from expressions of arrogance?'), AIMessage(content='Common facial expressions that indicate someone is feeling confident include relaxed muscles around the mouth, a slight smile, and a lifted chin. The eyes may appear bright and focused, and the forehead may be smooth without furrowed lines. These expressions convey a sense of self-assurance and positivity.\\n\\nDistinguishing expressions of confidence from expressions of arrogance can be challenging, as they may share some similarities. However, arrogance is often characterized by additional cues such as raised eyebrows, a tilted head, and a more intense or smug smile. Arrogance may also include a dismissive or condescending tone in speech and a lack of genuine warmth or empathy in interactions. It is important to consider the overall behavior and context to accurately differentiate between confidence and arrogance.'), HumanMessage(content='In a group setting, how can body language be used to identify the leader or the most influential person in the group?'), AIMessage(content='The provided context does not directly address how body language can be used to identify the leader or the most influential person in a group setting.'), HumanMessage(content='Can body language cues differ significantly across cultures, and if so, can you provide an example of a gesture that has different meanings in different cultures?'), AIMessage(content=\"Yes, body language cues can differ significantly across cultures. One example of a gesture that has different meanings in different cultures is finger pointing. In many countries throughout the world, finger pointing is viewed as one of the most offensive gestures a person can display. People don't like it when someone points a finger at them. However, in some cultures, like in Western cultures, finger pointing is commonly used to indicate directions or emphasize a point in a conversation. It is important to be aware of these cultural differences in order to avoid unintentionally offending others.\")]  \n",
       "4  [HumanMessage(content=\"How does crossing one's arms typically affect the perception of their attitude in a conversation?\"), AIMessage(content=\"Crossing one's arms in a conversation can often be perceived as a sign of defensiveness, resistance, or discomfort. It may give the impression that the person is closed off or not receptive to what is being said. However, it is important to consider other factors and cues in the conversation to accurately interpret someone's attitude, as crossing arms alone does not always indicate a negative attitude.\"), HumanMessage(content='What are common facial expressions that indicate someone is feeling confident, and how can they be distinguished from expressions of arrogance?'), AIMessage(content='Common facial expressions that indicate someone is feeling confident include relaxed muscles around the mouth, a slight smile, and a lifted chin. The eyes may appear bright and focused, and the forehead may be smooth without furrowed lines. These expressions convey a sense of self-assurance and positivity.\\n\\nDistinguishing expressions of confidence from expressions of arrogance can be challenging, as they may share some similarities. However, arrogance is often characterized by additional cues such as raised eyebrows, a tilted head, and a more intense or smug smile. Arrogance may also include a dismissive or condescending tone in speech and a lack of genuine warmth or empathy in interactions. It is important to consider the overall behavior and context to accurately differentiate between confidence and arrogance.'), HumanMessage(content='In a group setting, how can body language be used to identify the leader or the most influential person in the group?'), AIMessage(content='The provided context does not directly address how body language can be used to identify the leader or the most influential person in a group setting.'), HumanMessage(content='Can body language cues differ significantly across cultures, and if so, can you provide an example of a gesture that has different meanings in different cultures?'), AIMessage(content=\"Yes, body language cues can differ significantly across cultures. One example of a gesture that has different meanings in different cultures is finger pointing. In many countries throughout the world, finger pointing is viewed as one of the most offensive gestures a person can display. People don't like it when someone points a finger at them. However, in some cultures, like in Western cultures, finger pointing is commonly used to indicate directions or emphasize a point in a conversation. It is important to be aware of these cultural differences in order to avoid unintentionally offending others.\"), HumanMessage(content=\"How does mirroring another person's body language subtly influence the dynamics of a conversation or negotiation?\"), AIMessage(content=\"The subtle influence of mirroring another person's body language in a conversation or negotiation is that it creates a sense of comfort and harmony between the individuals involved. When one person mirrors the body language of the other, it subconsciously signals that they are in agreement and comfortable with each other. This can help build rapport and trust, leading to better communication and a more positive atmosphere for the conversation or negotiation. On the other hand, if there is a lack of mirroring or synchronization in body language, it can indicate a lack of harmony and may hinder effective communication and successful outcomes.\")]  "
      ]
     },
     "execution_count": 40,
     "metadata": {},
     "output_type": "execute_result"
    }
   ],
   "source": [
    "df"
   ]
  }
 ],
 "metadata": {
  "kernelspec": {
   "display_name": "myenv",
   "language": "python",
   "name": "python3"
  },
  "language_info": {
   "codemirror_mode": {
    "name": "ipython",
    "version": 3
   },
   "file_extension": ".py",
   "mimetype": "text/x-python",
   "name": "python",
   "nbconvert_exporter": "python",
   "pygments_lexer": "ipython3",
   "version": "3.10.13"
  }
 },
 "nbformat": 4,
 "nbformat_minor": 2
}
